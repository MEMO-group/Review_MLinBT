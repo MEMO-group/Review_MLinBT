{
 "cells": [
  {
   "cell_type": "markdown",
   "metadata": {},
   "source": [
    "<h1 style=\"text-align:center;\">Improving the Performance of Machine Learning Models for Biotechnology </h1>\n",
    "\n",
    "<hr style=\"border:1px solid #e8e8e8\"> </hr>\n",
    "\n",
    "<p style=\"text-align:center;\">\n",
    "<small><small>\n",
    "    Authors of paper: Friederike Mey, Jim  Clauwaert, Kirsten Van Huffel, Willem Waegeman, Marjan De Mey<br>\n",
    "Authors of tutorial: Friederike Mey, Jim Clauwaert and cited sources<br>\n",
    "Contact: <a href=\"mailto:marjan.demey@ugent.be\">Marjan De Mey</a><br>\n",
    "    </small></small>\n",
    "    </p>\n",
    "\n",
    "\n",
    "\n",
    "<hr style=\"border:1px solid #e8e8e8\"> </hr>\n",
    "\n",
    "<h2>Target Group, Scope and Aim</h2>\n",
    "\n",
    "This notebook is the accompanying tutorial to <b>Improving the Performance of Machine Learning Models for Biotechnology: The Quest for Deus Ex Machina</b>.\n",
    "\n",
    "Here, we focus on utilty for researchers in biotechnology who are relatively new to machine learning and wish to conduct a thorough analysis of their model and critically assess its performance and quality. Code is extensively commented and elaborated, sometimes for sacrificing more elegant and shorter expressions for expressions the authors believe to be more accessible and understandable for beginners.\n",
    "\n",
    "The attention lies on methods and metrics related to model performance. If you are entirely new to machine learning, please first refer to section 2 where we recommend other papers to get familiar with running your own machine learning model.\n",
    "\n",
    "Together with the accompanying paper, this tutorial aims to broaden the understanding of a model's robustness and show ways to analyze and ameliorate the performance. Each sections further list helpful sources and tutorials.\n",
    "\n",
    "Technical prerequisites are listed in section 1. \n",
    "\n",
    "<hr style=\"border:1px solid #e8e8e8\"> </hr>\n",
    "\n",
    "<h2>Content</h2>\n",
    "\n",
    "\n",
    "1\\. Technical Prerequisites<br>\n",
    "2\\. Basics of Machine Learning: Recommended Literature<br>\n",
    "3\\.1 Bias, Variance and Noise<br>\n",
    "3\\.2 Stability<br>\n",
    "3\\.3 Data Quantity<br>\n",
    "3\\.4 Data Imbalances<br>\n",
    "4\\. Conclusions"
   ]
  },
  {
   "cell_type": "markdown",
   "metadata": {},
   "source": [
    "<hr style=\"border:1px solid #A3A3A3\"> </hr>\n",
    "\n",
    "<h2>1. Technical Prerequisites</h2>\n",
    "\n",
    "This tutorial is built in <a href=\"https://jupyter-notebook-beginner-guide.readthedocs.io/en/latest/\">Jupyter notebook</a> with code written in <a href=\"https://docs.python.org/3/\">Python 3</a>. It is made available publically through GitHub.\n",
    "\n",
    "If you wish to run or modify code cells yourself:\n",
    "1. Install Python and Jupyter notebook or use <a href=\"https://mybinder.org/\">Binder</a> online (changes are not saved in this case). To run files locally, download this tutorial and open it via Jupyter Notebook (for example via Anaconda).\n",
    "2. To run a code cell (blocks preceded by ```[ ]:```), select it and press ```Ctrl + Enter```. In Jupyter notebooks, cells have to be run sequentially to store variables correctly. \n",
    "3. Comments in code cells are preceded by # and are not interpreted as code.\n",
    "\n",
    "You might need to install the following packages:\n",
    "* numpy 1.19.2\n",
    "* pandas 1.1.3\n",
    "* matplotlib 3.3.2\n",
    "* scipy 1.5.2\n",
    "* sklearn 0.23.2"
   ]
  },
  {
   "cell_type": "markdown",
   "metadata": {},
   "source": [
    "<hr style=\"border:1px solid #A3A3A3\"> </hr>\n",
    "\n",
    "<h2>2. Basics of Machine Learning: Recommended Literature</h2>\n",
    "\n",
    "The review offers a section on basic terminology relevant to the issues discussed below. For a deeper introduction, we particularly highlight the following reviews:\n",
    "\n",
    "<b>Lawson <i>et al</i>, 2020</b>: <a href=\"https://doi.org/10.1016/j.ymben.2020.10.005\">Machine learning for metabolic engineering: A review</a><br>\n",
    "<small>Excellent introduction to machine learning, introducting important terminology such as the concepts of over-/underfitting, cross-validation and model complexity. Figure 10 depicts a useful guide for different scikit-learn packages. Section 2.4 describes practical considerations for successful implementation of machine learning, which are particularly useful to beginners. Table 1 lists studies that have used machine learning, including their input dataset size. The review has a focus on machine learning in metabolic engineering.</small>\n",
    "\n",
    "\n",
    "<b>Walsh <i>et al</i>, 2021</b>: <a href=\"https://doi.org/10.1038/s41592-021-01205-4\">DOME: recommendations for supervised machine learning validation in biology</a><br>\n",
    "<small>DOME attempts to set a standard for reporting supervised machine learning studies in biotechnology to make assessment and reproducibility easier. It introduces key terms for datasets and optimization and evaluation metrics. Such reporting standards are very much in the spirit of the presented review as well.</small>\n",
    "\n",
    "\n",
    "<hr style=\"border:1px solid #e8e8e8\"> </hr>\n",
    "\n",
    "Other sources in alphabetical order:\n",
    "\n",
    "<b>Camacho <i>et al</i>, 2018</b>: <a href=\"https://doi.org/10.1016/j.cell.2018.05.015\">Next-Generation Machine Learning for Biological Networks</a><br>\n",
    "<small>Introduction to model categories used for biological problems with a focus on neural networks and different fields that particularly profited from applying machine learning models: Disease biology, drug discovery, microbiome research, synthetic biology.</small>\n",
    "\n",
    "\n",
    "<b>Cuperlovic-Culf <i>et al</i>, 2018</b>: <a href=\"https://doi.org/10.3390/metabo8010004\">Machine Learning Methods for Analysis of Metabolic Data and Metabolic Pathway Modeling</a><br>\n",
    "<small>Table 1 shows an overview of algorithm groups with a short description and applications listed for each. The review itself focuses on machine learning on metabolic data and pathway modeling.</small>\n",
    "\n",
    "\n",
    "<b>Kim <i>et al</i>, 2020</b>: <a href=\"https://doi.org/10.1016/j.copbio.2019.08.010\">Machine learning applications in systems metabolic engineering</a><br>\n",
    "<small>Table 1 shows an overview of algorithm tasks with a short description and applications listed for each. Figure 1 depicts a graphical overview of different machine learning algorithms being employed each step of the workflow for industrial strain development. This review discusses machine learining in the context of systems biology.</small>\n",
    "\n",
    "\n",
    "<b>Presnell & Alper <i>et al</i>, 2019</b>: <a href=\"https://doi.org/10.1002/biot.201800416\">Systems Metabolic Engineering Meets Machine Learning: A New Era for Data-Driven Metabolic Engineering</a><br>\n",
    "<small>This review focuses on data-driven research in systems biology and metbaolic research. Table 1 lists data repositories where Omic dataset scan be found and table 2 discusses various algorithms, their pros and cons and relevant articles. The review discusses subsections of the field where studies applied data-driven models.</small>\n",
    "\n",
    "\n",
    "<b>Reel <i>et al</i>, 2021</b>: <a href=\"https://www.sciencedirect.com/science/article/pii/S0734975021000458\">Using machine learning approaches for multi-omics data analysis: A review</a><br>\n",
    "<small>This review discusses the use of machine learning models in the context of multi-omic datasets. It provides an overview of high-throughput techniques in omics and also introduces standard machine learning terminology. Several challenges that come with omic datasets such as class imbalances, outliers and small dataset sizes are briefly discussed. The review also provides an overview on different multi-omic integration methods that were carried out using difernt learning algorithms.</small>\n",
    "\n",
    "\n",
    "<b>Volk <i>et al</i>, 2020</b>: <a href=\"https://doi.org/10.1021/acssynbio.0c00129\">Biosystems Design by Machine Learning</a><br>\n",
    "<small>This review defines terminology such as variables, loss function, hyperparameters. It also briefly introduces some of the most known algorithms (such as random forest or neural network). Applications in synthetic biology are described for all relevant levels: DNA, protein engineering (detailed description in table 2), pathway, genome and process (detailed descriptoin in table 3) level.</small>\n",
    "\n",
    "\n",
    "<b>Zou <i>et al</i>, 2020</b>: <a href=\"https://doi.org/10.1038/s41588-018-0295-5\">A primer on deep learning in genomics</a><br>\n",
    "<small>This review focuses on applying deep learning to problems in genomics and explains neural network-relevant terminology. Tips for usage and interpretation are discussed and further elaborated in an interactive online tutorial. Box 3 lists resourches such as cloud platforms and software libraries that are useful for deep learning. Applications in the field of genomics are reviewed.</small>"
   ]
  },
  {
   "cell_type": "markdown",
   "metadata": {},
   "source": [
    "<hr style=\"border:1px solid #A3A3A3\"> </hr>\n",
    "\n",
    "<h2>3.1. Bias, Variance and Noise</h2>\n",
    "\n",
    "During the process of finding the right model and hyperparameters for a prediction task, some approaches will inevitably show a bad fit for the given data. The total error of a model originates hereby from three parts:\n",
    "\n",
    "1. The bias error: wrong model assumptions, which can therefore not map the relation between x and y. This model does not fit well on the training data, resulting in a high training and high test error. \n",
    "2. The variance error: the model is too sensitve to fluctuations (noise). The model fits (almost) perfectly on training data, but underperforms on test data.\n",
    "3. The irreducible error: a certain amount of inaccuracy always remains.\n",
    "\n",
    "In this section, we fit 3 models on a fictious dataset to investigate the effect of high bias and high variance on the root mean square error and the R<sup>2</sup> value. The latter is a goodness of fit for true values (```y```) and predicted values (```y_pred```) for both training- and testset.\n",
    "<br><br>\n",
    "\n",
    "This section refers to Figure 2 of the article."
   ]
  },
  {
   "cell_type": "markdown",
   "metadata": {},
   "source": [
    "<hr style=\"border:1px solid #e8e8e8\"> </hr>\n",
    "\n",
    "<h3>3.1.1 The data</h3>\n",
    "\n",
    "To demonstrate the effect of using models with different capacities (so different abilities to fit a variety of functions), we create a fictious dataset following a quadratic function. Randomly, we add 5-10% noise to each datapoint. \n",
    "<br><br>"
   ]
  },
  {
   "cell_type": "code",
   "execution_count": 1,
   "metadata": {},
   "outputs": [
    {
     "data": {
      "image/png": "[encoded data removed]",
      "text/plain": [
       "<Figure size 432x288 with 1 Axes>"
      ]
     },
     "metadata": {
      "needs_background": "light"
     },
     "output_type": "display_data"
    }
   ],
   "source": [
    "# import packages\n",
    "import numpy as np\n",
    "import matplotlib.pyplot as plt\n",
    "\n",
    "# create seed for reproducibility\n",
    "np.random.seed(666)\n",
    "\n",
    "# create/initialize values\n",
    "X = list(np.arange(-3,10,1))\n",
    "y = []\n",
    "\n",
    "# add y as f(x)=x^2\n",
    "for element in X:\n",
    "    s = element**2\n",
    "    y.append(s)\n",
    "    \n",
    "# generate 20% noise values\n",
    "noises = [-0.2, -0.1, -0.05, 0.05, 0.1, 0.2]\n",
    "\n",
    "# add noise to y values\n",
    "for i, element in enumerate(y):\n",
    "    y[i] = int((element + element*np.random.choice(noises, replace=True)).round(0))\n",
    "\n",
    "\n",
    "# plot data\n",
    "plt.scatter(X,y)\n",
    "plt.title('Fictious measurements')\n",
    "plt.ylabel('y')\n",
    "plt.xlabel('x')\n",
    "plt.show()"
   ]
  },
  {
   "cell_type": "markdown",
   "metadata": {},
   "source": [
    "Next, we prepare the (very small) dataset for model training by performingthe train-test-split using 80% training and 20% testdata."
   ]
  },
  {
   "cell_type": "code",
   "execution_count": 2,
   "metadata": {},
   "outputs": [],
   "source": [
    "# import package\n",
    "from sklearn.model_selection import train_test_split\n",
    "\n",
    "# turn list into array and reshape into standard shape (vertical) \n",
    "X = np.array(X)\n",
    "X = X.reshape(-1,1)\n",
    "y = np.array(y)\n",
    "y = y.reshape(-1,1)\n",
    "\n",
    "# perform train test split\n",
    "X_train, X_test, y_train, y_test = train_test_split(X, y, test_size=0.2, random_state=15)"
   ]
  },
  {
   "cell_type": "code",
   "execution_count": 3,
   "metadata": {
    "scrolled": true
   },
   "outputs": [
    {
     "data": {
      "text/plain": [
       "array([[ 7],\n",
       "       [-1],\n",
       "       [ 9]])"
      ]
     },
     "execution_count": 3,
     "metadata": {},
     "output_type": "execute_result"
    }
   ],
   "source": [
    "X_test"
   ]
  },
  {
   "cell_type": "markdown",
   "metadata": {},
   "source": [
    "<hr style=\"border:1px solid #e8e8e8\"> </hr>\n",
    "\n",
    "<h3>3.1.2. High bias scenario</h3>"
   ]
  },
  {
   "cell_type": "code",
   "execution_count": 4,
   "metadata": {
    "scrolled": false
   },
   "outputs": [
    {
     "data": {
      "image/png": "[encoded data removed]",
      "text/plain": [
       "<Figure size 432x288 with 1 Axes>"
      ]
     },
     "metadata": {
      "needs_background": "light"
     },
     "output_type": "display_data"
    },
    {
     "name": "stdout",
     "output_type": "stream",
     "text": [
      "R^2 score training: 0.6908\n",
      "R^2 score test: 0.7594\n",
      "\n",
      "RMSE score training: 9.2619\n",
      "RMSE score test: 13.0668\n"
     ]
    }
   ],
   "source": [
    "# import packages\n",
    "from sklearn.linear_model import LinearRegression\n",
    "from sklearn.metrics import mean_squared_error\n",
    "\n",
    "# perform linear regression\n",
    "\n",
    "# fit model on training data:\n",
    "reg = LinearRegression().fit(X_train, y_train)\n",
    "\n",
    "# predict for train and test set:\n",
    "y_pred = reg.predict(X_test)\n",
    "y_pred_train = reg.predict(X_train)\n",
    "\n",
    "# calculate R2 score for train and test set:\n",
    "score_train = reg.score(X_train,y_train)\n",
    "score_test = reg.score(X_test, y_test)\n",
    "\n",
    "# calculate root mean square error \n",
    "rmse_train = mean_squared_error(y_train, y_pred_train, squared=False)\n",
    "rmse_test = mean_squared_error(y_test, y_pred, squared=False)\n",
    "\n",
    "# plot data\n",
    "fig, ax = plt.subplots()\n",
    "plt.scatter(X_train,y_train, label='data')\n",
    "plt.scatter(X_test,y_test, color='darkred',label='true y')\n",
    "plt.scatter(X_test, y_pred, color='gold', label='prediction')\n",
    "\n",
    "# uncomment line below to plot predictions for the training dataset\n",
    "#plt.scatter(X_train, y_pred_train, color='red', label='prediction training')\n",
    "\n",
    "\n",
    "plt.title('Linear Regression')\n",
    "plt.ylabel('y')\n",
    "plt.xlabel('x')\n",
    "plt.legend()\n",
    "plt.show()\n",
    "\n",
    "print(f'R^2 score training: {round(score_train,4)}\\nR^2 score test: {round(score_test,4)}\\n')\n",
    "print(f'RMSE score training: {round(rmse_train,4)}\\nRMSE score test: {round(rmse_test,4)}')"
   ]
  },
  {
   "cell_type": "markdown",
   "metadata": {},
   "source": [
    "<h4>Conclusion</h4>\n",
    "\n",
    "We can expect linear regression to perform badly on a quadratic function. Indeed, we see a low score and high error for both training and test set. This result is typical for a model of high bias, which underfits. "
   ]
  },
  {
   "cell_type": "markdown",
   "metadata": {},
   "source": [
    "<hr style=\"border:1px solid #e8e8e8\"> </hr>\n",
    "\n",
    "<h3>3.1.3 High variance scenario</h3>"
   ]
  },
  {
   "cell_type": "code",
   "execution_count": 5,
   "metadata": {
    "scrolled": false
   },
   "outputs": [
    {
     "data": {
      "image/png": "[encoded data removed]",
      "text/plain": [
       "<Figure size 432x288 with 1 Axes>"
      ]
     },
     "metadata": {
      "needs_background": "light"
     },
     "output_type": "display_data"
    },
    {
     "name": "stdout",
     "output_type": "stream",
     "text": [
      "R^2 score training: 1.0\n",
      "R^2 score test: 0.8962\n",
      "\n",
      "RMSE score training: 0.0\n",
      "RMSE score test: 8.5829\n"
     ]
    }
   ],
   "source": [
    "# import packages \n",
    "from sklearn import tree\n",
    "\n",
    "# perform decision tree regressor\n",
    "dtr = tree.DecisionTreeRegressor().fit(X_train, y_train)\n",
    "\n",
    "y_pred = dtr.predict(X_test)\n",
    "y_pred_train = dtr.predict(X_train)\n",
    "\n",
    "score_train = dtr.score(X_train,y_train)\n",
    "score_test = dtr.score(X_test, y_test)\n",
    "\n",
    "rmse_train = mean_squared_error(y_train, y_pred_train, squared=False)\n",
    "rmse_test = mean_squared_error(y_test, y_pred, squared=False)\n",
    "\n",
    "# plot data\n",
    "fig, ax = plt.subplots()\n",
    "#plt.scatter(X_train,y_train, label='data')\n",
    "plt.scatter(X_test,y_test, color='darkred',label='true y')\n",
    "plt.scatter(X_test, y_pred, color='gold', label='prediction')\n",
    "\n",
    "# uncomment line below to check fit of training data\n",
    "plt.scatter(X_train, y_pred_train, color='limegreen', label='training prediction')\n",
    "\n",
    "plt.title('Decision Tree Regressor')\n",
    "plt.ylabel('y')\n",
    "plt.xlabel('x')\n",
    "plt.legend()\n",
    "plt.show()\n",
    "\n",
    "print(f'R^2 score training: {round(score_train,4)}\\nR^2 score test: {round(score_test,4)}\\n')\n",
    "print(f'RMSE score training: {round(rmse_train,4)}\\nRMSE score test: {round(rmse_test,4)}')"
   ]
  },
  {
   "cell_type": "markdown",
   "metadata": {},
   "source": [
    "<h4>Conclusion</h4>\n",
    "\n",
    "We can expect a decision tree to easily overfit on a simple quadratic function. The model's capacity is high, allowing it to fit on noise. Indeed, we see a perfect score for training and a suboptimal performance on the test set. This result is typical for a model of high variance."
   ]
  },
  {
   "cell_type": "markdown",
   "metadata": {},
   "source": [
    "<hr style=\"border:1px solid #e8e8e8\"> </hr>\n",
    "\n",
    "<h3>3.1.4 Low bias, low variance scenario</h3>\n",
    "\n",
    "For a more detailed explanation on performing polynomial regression, <a href=\"https://www.dailysmarty.com/posts/polynomial-regression\">click here</a> and check out the <a href=\"https://scikit-learn.org/stable/modules/generated/sklearn.preprocessing.PolynomialFeatures.html\">documentation</a>."
   ]
  },
  {
   "cell_type": "code",
   "execution_count": 6,
   "metadata": {},
   "outputs": [
    {
     "data": {
      "image/png": "[encoded data removed]",
      "text/plain": [
       "<Figure size 432x288 with 1 Axes>"
      ]
     },
     "metadata": {
      "needs_background": "light"
     },
     "output_type": "display_data"
    },
    {
     "name": "stdout",
     "output_type": "stream",
     "text": [
      "R^2 score training: 0.9615\n",
      "R^2 score test: 0.9876\n",
      "\n",
      "RMSE score training: 3.268\n",
      "RMSE score test: 2.9713\n"
     ]
    }
   ],
   "source": [
    "# import package\n",
    "from sklearn.preprocessing import PolynomialFeatures\n",
    "\n",
    "# transform data to polynomial features \n",
    "polynomial_features = PolynomialFeatures(degree=2)\n",
    "X_train_poly = polynomial_features.fit_transform(X_train)\n",
    "X_test_poly = polynomial_features.fit_transform(X_test)\n",
    "\n",
    "# perform linear regression\n",
    "reg = LinearRegression().fit(X_train_poly, y_train)\n",
    "\n",
    "y_pred = reg.predict(X_test_poly)\n",
    "y_pred_train = reg.predict(X_train_poly)\n",
    "\n",
    "score_train = reg.score(X_train_poly,y_train)\n",
    "score_test = reg.score(X_test_poly, y_test)\n",
    "\n",
    "rmse_train = mean_squared_error(y_train, y_pred_train, squared=False)\n",
    "rmse_test = mean_squared_error(y_test, y_pred, squared=False)\n",
    "\n",
    "# plot data\n",
    "fig, ax = plt.subplots()\n",
    "plt.scatter(X_train,y_train, label='data')\n",
    "plt.scatter(X_test,y_test, color='darkred',label='true y')\n",
    "plt.scatter(X_test, y_pred, color='gold', label='prediction')\n",
    "\n",
    "# uncomment line below to check fit of training data\n",
    "#plt.scatter(X_train, y_pred_train, color='red', label='training prediction')\n",
    "\n",
    "plt.title('Polynomial Regression')\n",
    "plt.ylabel('y')\n",
    "plt.xlabel('x')\n",
    "plt.legend()\n",
    "plt.show()\n",
    "\n",
    "print(f'R^2 score training: {round(score_train,4)}\\nR^2 score test: {round(score_test,4)}\\n')\n",
    "print(f'RMSE score training: {round(rmse_train,4)}\\nRMSE score test: {round(rmse_test,4)}')"
   ]
  },
  {
   "cell_type": "markdown",
   "metadata": {},
   "source": [
    "<h4>Conclusion</h4>\n",
    "\n",
    "We expect a polynomial regressor to fit the quadratic function very well. Indeed, we see very high scores and low errors for both training and test data. This is a good indiction that the model fits generally well."
   ]
  },
  {
   "cell_type": "markdown",
   "metadata": {},
   "source": [
    "<hr style=\"border:1px solid #A3A3A3\"> </hr>\n",
    "\n",
    "<h2>3.2. Stability</h2>\n",
    "\n",
    "When splitting a model into a training and a test set, the performance is evaluated on the model’s predictions made on the test set. However, the performance might vary had the model been built on a different portion of the data due to differences in noise or a different sample distribution. Strong variations are undesirable because the model has not been able to map the true correlations and is therefore unlikely to generalize well on unseen data. \n",
    "\n",
    "Unstable performance can be detected with cross-validation (CV), which averages performances of the model when trained on different subsets of the data. In this section, we will use a <code>DecisionTreeRegressor</code> on the Boston Housing dataset and perform CV on it to investigate model stability. To read more about CV strategies, we recommend <a href=\"https://towardsdatascience.com/complete-guide-to-pythons-cross-validation-with-examples-a9676b5cac12\">this article</a>.\n",
    "<br><br>\n",
    "Here, we use Boston Housing dataset, retaining 3 relevant features as training dataset. More information about this dataset can be found <a href=\"https://www.cs.toronto.edu/~delve/data/boston/bostonDetail.html\">here</a>. A multitude of preprocessing methods for this dataset exist.\n",
    "<br><br>\n",
    "Below, the CV score is calculated and visualized for different depths of a decision tree when built on different portions of the training data. Note that the train-test-split is performed beforehand to preserve an independent test set that the model has never seen. After selecting the preferred hyperparameters, the model can subsequently be fitted and the test set used to assess prediction accurarcy.\n",
    "<br><br>"
   ]
  },
  {
   "cell_type": "code",
   "execution_count": 7,
   "metadata": {
    "scrolled": true
   },
   "outputs": [],
   "source": [
    "import pandas as pd\n",
    "from sklearn.datasets import load_boston\n",
    "\n",
    "boston = load_boston()\n",
    "\n",
    "data = pd.DataFrame(boston.data, columns=boston.feature_names)\n",
    "data['MEDV'] =  boston.target"
   ]
  },
  {
   "cell_type": "code",
   "execution_count": 8,
   "metadata": {},
   "outputs": [],
   "source": [
    "X = data[['RM', 'PTRATIO', 'LSTAT']]\n",
    "y = data['MEDV']"
   ]
  },
  {
   "cell_type": "code",
   "execution_count": 9,
   "metadata": {},
   "outputs": [],
   "source": [
    "# split train and test data\n",
    "X_train, X_test, y_train, y_test = train_test_split(X, y, test_size=0.2, shuffle=True, random_state=42)"
   ]
  },
  {
   "cell_type": "markdown",
   "metadata": {},
   "source": [
    "<hr style=\"border:1px solid #e8e8e8\"> </hr>\n",
    "\n",
    "<h3>3.2.1 cross_val_score</h3>\n",
    "\n",
    "This <a href=\"https://scikit-learn.org/stable/modules/generated/sklearn.model_selection.cross_val_score.html\">class</a> evaluates a score by CV and can for example be iteratively used to test hyperparameters. To optimize multiple hyperparameters, <a href=\"https://scikit-learn.org/stable/modules/generated/sklearn.pipeline.Pipeline.html\">a pipeline</a> can be used. In such a case, the pipeline is sent to cross_val_score:<br>\n",
    "<p style=\"text-align:center;\">\n",
    "    <code>score = cross_val_score(pipeline, X, y, cv=cv)</code>\n",
    "    </p>    "
   ]
  },
  {
   "cell_type": "code",
   "execution_count": 10,
   "metadata": {},
   "outputs": [],
   "source": [
    "# import relevant packages\n",
    "from sklearn.model_selection import ShuffleSplit\n",
    "from sklearn.tree import DecisionTreeRegressor\n",
    "from sklearn.model_selection import cross_val_score"
   ]
  },
  {
   "cell_type": "code",
   "execution_count": 11,
   "metadata": {
    "scrolled": true
   },
   "outputs": [
    {
     "name": "stdout",
     "output_type": "stream",
     "text": [
      "Mean Score | StDev Score | Depth\n"
     ]
    },
    {
     "data": {
      "text/plain": [
       "[((0.7558, 0.06594), 5),\n",
       " ((0.748, 0.06514), 4),\n",
       " ((0.7374, 0.06621), 6),\n",
       " ((0.7257, 0.06367), 3),\n",
       " ((0.6633, 0.10352), 7),\n",
       " ((0.6463, 0.07004), 2),\n",
       " ((0.3858, 0.09171), 1)]"
      ]
     },
     "execution_count": 11,
     "metadata": {},
     "output_type": "execute_result"
    }
   ],
   "source": [
    "# Initiate cross-validation \n",
    "cv = ShuffleSplit(n_splits = 10, test_size = 0.2, random_state = 1984)\n",
    "\n",
    "# DecisionTree hyperparameter\n",
    "depths = [1,2,3,4,5,6,7]\n",
    "# initialize storage for means and stdevs\n",
    "means = []\n",
    "stds = []\n",
    "\n",
    "for depth in depths:\n",
    "    model = DecisionTreeRegressor(max_depth = depth)\n",
    "    \n",
    "    # determine CV scores of this model\n",
    "    # alternative parameter: scoring = 'neg_mean_squared_error'\n",
    "    score = cross_val_score(model, X_train, y_train, cv=cv)\n",
    "    mean = round(score.mean(),4)\n",
    "    means.append(mean)\n",
    "    std = round(score.std(),5)\n",
    "    stds.append(std)\n",
    "\n",
    "scores = dict(zip(depths, (zip(means, stds))))\n",
    "sorted_scores = sorted(((v,k) for k,v in scores.items()), reverse=True)\n",
    "\n",
    "print('Mean Score | StDev Score | Depth')\n",
    "sorted_scores"
   ]
  },
  {
   "cell_type": "code",
   "execution_count": 12,
   "metadata": {},
   "outputs": [
    {
     "name": "stdout",
     "output_type": "stream",
     "text": [
      "{1: 0.238, 2: 0.108, 3: 0.088, 4: 0.087, 5: 0.087, 6: 0.09, 7: 0.156}\n"
     ]
    }
   ],
   "source": [
    "# calculate the coefficient of variation\n",
    "variations = []\n",
    "\n",
    "for std, mean in zip(stds,means):\n",
    "    \n",
    "    variation = std/mean\n",
    "    variation = round(variation, 3)\n",
    "    variations.append(variation)\n",
    "\n",
    "varDic = dict(zip(depths, variations))   \n",
    "print(varDic)"
   ]
  },
  {
   "cell_type": "markdown",
   "metadata": {},
   "source": [
    "Here, we see the scores of different depths and their standard deviation, as well as the coefficient of variations, defined as std/mean. The score is already not very high, but the rather high standard derivation indicates that the model score diverges when built on different subsets. The coefficient of variation is close to or above 0.1, further indicating a strong deviation from the mean across the samples."
   ]
  },
  {
   "cell_type": "markdown",
   "metadata": {},
   "source": [
    "<hr style=\"border:1px solid #e8e8e8\"> </hr>\n",
    "<h3>3.2.2 validation_curve</h3>\n",
    "\n",
    "<a href=\"https://scikit-learn.org/stable/modules/generated/sklearn.model_selection.validation_curve.html#sklearn.model_selection.validation_curve\">Validation curve</a> is another possibility to obtain and visualize the scores."
   ]
  },
  {
   "cell_type": "code",
   "execution_count": 13,
   "metadata": {},
   "outputs": [
    {
     "data": {
      "image/png": "[encoded data removed]",
      "text/plain": [
       "<Figure size 360x216 with 1 Axes>"
      ]
     },
     "metadata": {
      "needs_background": "light"
     },
     "output_type": "display_data"
    }
   ],
   "source": [
    "from sklearn.model_selection import validation_curve\n",
    "\n",
    "cv = ShuffleSplit(n_splits = 10, test_size = 0.2, random_state = 1984)\n",
    "regressor = DecisionTreeRegressor()\n",
    "depths = np.arange(1,8)\n",
    "\n",
    "train_scores, test_scores = validation_curve(regressor, \n",
    "                                             X_train, y_train, \n",
    "                                             param_name=\"max_depth\", \n",
    "                                             param_range=depths, cv=cv, scoring='r2')\n",
    "\n",
    "train_mean = np.mean(train_scores, axis=1)\n",
    "train_std = np.std(train_scores, axis=1)\n",
    "test_mean = np.mean(test_scores, axis=1)\n",
    "test_std = np.std(test_scores, axis=1)\n",
    "\n",
    "# Plot the data\n",
    "fig,ax = plt.subplots(figsize=(5,3))\n",
    "\n",
    "ax.plot(depths, train_mean, 'o-', color = 'y', label = 'Training Score')\n",
    "ax.plot(depths, test_mean, 'o-', color = 'b', label = 'Validation Score')\n",
    "\n",
    "ax.fill_between(depths, train_mean - train_std, train_mean + train_std,\n",
    "                alpha = 0.15, color = 'y')\n",
    "ax.fill_between(depths, test_mean - test_std, test_mean + test_std,\n",
    "                alpha = 0.15, color = 'b')\n",
    "\n",
    "\n",
    "\n",
    "ax.set_title('CV score of various depths')\n",
    "ax.set_xlabel('Depth')\n",
    "ax.set_ylabel('Score')\n",
    "ax.legend(bbox_to_anchor=(1.05, 1.05))\n",
    "\n",
    "plt.show()"
   ]
  },
  {
   "cell_type": "markdown",
   "metadata": {},
   "source": [
    "<hr style=\"border:1px solid #A3A3A3\"> </hr>\n",
    "\n",
    "<h2>3.3 Data Quantity</h2>\n",
    "\n",
    "Generally, the more data is used for machine learning models, the more likely the effect of random noise during training can be mediated and the evaluated performances are a correct representation of the model’s ability. Dataset size can affect the above-discussed issues of high bias, variance, noise and instability, but it will also directly reduce the model’s capacity of mapping the true correlations.\n",
    "\n",
    "Learning curves are a technique that can help estimate whether the amount of data collected and used for model building is adequate. To compute learning curves, the dataset is artificially reduced. Learning curves are plotted from a very low portion of the data up to 100% and compute the training and validation score for each set. The behavior of the learning curves for both the training and validation datasets give an indication of the general fit of the model and sufficiency of data quantity. \n",
    "\n",
    "The following points are important to discuss when interpreting a learning curve:\n",
    "\n",
    "1.\tDo the validation and training curve converge?\n",
    "2.\tHow high is the score at which the curves flatten out?\n",
    "\n",
    "Convergence (1) indicates that increasing the number of samples will not improve the performance of the model. The highest score (2) indicates how good a model performs (see 2. Bias, variance and noise for interpretation). If the training score remains near-perfect while the test score is low across different sample sizes, the model likely overfits.\n",
    "\n",
    "These points are discussed on a decision tree regressor on the Boston Housing dataset."
   ]
  },
  {
   "cell_type": "markdown",
   "metadata": {},
   "source": [
    "<hr style=\"border:1px solid #e8e8e8\"> </hr>\n",
    "\n",
    "<h4>The data</h4>"
   ]
  },
  {
   "cell_type": "code",
   "execution_count": 14,
   "metadata": {},
   "outputs": [],
   "source": [
    "boston = load_boston()\n",
    "\n",
    "data = pd.DataFrame(boston.data, columns=boston.feature_names)\n",
    "data['MEDV'] =  boston.target\n",
    "\n",
    "X = data[['RM', 'PTRATIO', 'LSTAT']]\n",
    "y = data['MEDV']"
   ]
  },
  {
   "cell_type": "markdown",
   "metadata": {},
   "source": [
    "<hr style=\"border:1px solid #e8e8e8\"> </hr>\n",
    "\n",
    "<h3>3.3.1 Insufficient data scenario</h3>\n",
    "\n",
    "We already know that our dataset contains 490 samples. What if we would only have 150?"
   ]
  },
  {
   "cell_type": "code",
   "execution_count": 15,
   "metadata": {},
   "outputs": [],
   "source": [
    "# import necessary packages\n",
    "from sklearn.model_selection import learning_curve"
   ]
  },
  {
   "cell_type": "code",
   "execution_count": 16,
   "metadata": {},
   "outputs": [],
   "source": [
    "# randomly select 150 rows to make artificially reduced dataset.\n",
    "# use random_state for reproducibility\n",
    "data_reduced = data.sample(150, replace=False, random_state=1994)\n",
    "X_reduced = data_reduced[['LSTAT', 'NOX', 'RM']]\n",
    "y_reduced = data_reduced['MEDV']"
   ]
  },
  {
   "cell_type": "code",
   "execution_count": 17,
   "metadata": {},
   "outputs": [
    {
     "data": {
      "image/png": "[encoded data removed]",
      "text/plain": [
       "<Figure size 360x144 with 1 Axes>"
      ]
     },
     "metadata": {
      "needs_background": "light"
     },
     "output_type": "display_data"
    }
   ],
   "source": [
    "# Define the different training sizes\n",
    "train_sizes = np.array([5,20,50,80,100,119])\n",
    "\n",
    "# Initiate cross-validation scheme\n",
    "cv = ShuffleSplit(n_splits = 10, test_size = 0.2, random_state = 15)\n",
    "\n",
    "# DecisionTree hyperparameter\n",
    "depth = 3\n",
    "\n",
    "# Initiate model\n",
    "dtr = DecisionTreeRegressor(max_depth = depth)\n",
    "\n",
    "# Train multiple models for different train_sizes\n",
    "sizes, train_scores, test_scores = learning_curve(dtr, X_reduced, y_reduced, \n",
    "                                                  cv = cv, \n",
    "                                                  train_sizes = train_sizes, \n",
    "                                                  scoring = 'r2')\n",
    "\n",
    "# mean and standard deviation for smoothing\n",
    "train_std = np.std(train_scores, axis = 1)\n",
    "train_mean = np.mean(train_scores, axis = 1)\n",
    "test_std = np.std(test_scores, axis = 1)\n",
    "test_mean = np.mean(test_scores, axis = 1)\n",
    "\n",
    "# Plot the data\n",
    "fig,ax = plt.subplots(figsize=(5,2))\n",
    "\n",
    "ax.plot(sizes, train_mean, 'o-', color = 'y', label = 'Training Score')\n",
    "ax.plot(sizes, test_mean, 'o-', color = 'b', label = 'Validation Score')\n",
    "\n",
    "ax.fill_between(sizes, train_mean - train_std, train_mean + train_std, \n",
    "                alpha = 0.15, color = 'y')\n",
    "ax.fill_between(sizes, test_mean - test_std, test_mean + test_std, \n",
    "                alpha = 0.15, color = 'b')\n",
    "\n",
    "ax.set_title('Depth = %s'%(depth))\n",
    "ax.set_xlabel('Number of training samples')\n",
    "ax.set_ylabel('R$^2$ score')\n",
    "ax.set_xlim([0, X_reduced.shape[0]*0.8])\n",
    "ax.set_ylim([-0.05, 1.05])\n",
    "ax.legend(bbox_to_anchor=(1.5, 1.05))\n",
    "\n",
    "plt.show()"
   ]
  },
  {
   "cell_type": "markdown",
   "metadata": {},
   "source": [
    "<h4>Conclusions</h4>\n",
    "The model displays desired trends but has not reached conversion yet. Compare this to 3.3.2 where the full-size dataset will be used."
   ]
  },
  {
   "cell_type": "markdown",
   "metadata": {},
   "source": [
    "<hr style=\"border:1px solid #e8e8e8\"> </hr>\n",
    "\n",
    "<h3>3.3.2 Increasing the dataset size</h3>"
   ]
  },
  {
   "cell_type": "code",
   "execution_count": 18,
   "metadata": {},
   "outputs": [
    {
     "data": {
      "image/png": "[encoded data removed]",
      "text/plain": [
       "<Figure size 360x144 with 1 Axes>"
      ]
     },
     "metadata": {
      "needs_background": "light"
     },
     "output_type": "display_data"
    }
   ],
   "source": [
    "# Define the different training sizes\n",
    "train_sizes = np.array([5,50,100,150,200,250,300,350,392])\n",
    "\n",
    "# Initiate cross-validation scheme\n",
    "cv = ShuffleSplit(n_splits = 10, test_size = 0.2, random_state = 15)\n",
    "\n",
    "# DecisionTree hyperparameter\n",
    "depth = 3\n",
    "\n",
    "# Initiate model\n",
    "dtr = DecisionTreeRegressor(max_depth = depth)\n",
    "\n",
    "# Train multiple models for different train_sizes\n",
    "sizes, train_scores, test_scores = learning_curve(dtr, X, y, \n",
    "                                                  cv = cv, \n",
    "                                                  train_sizes = train_sizes, \n",
    "                                                  scoring = 'r2')\n",
    "\n",
    "# mean and standard deviation for smoothing\n",
    "train_std = np.std(train_scores, axis = 1)\n",
    "train_mean = np.mean(train_scores, axis = 1)\n",
    "test_std = np.std(test_scores, axis = 1)\n",
    "test_mean = np.mean(test_scores, axis = 1)\n",
    "\n",
    "# Plot the data\n",
    "fig,ax = plt.subplots(figsize=(5,2))\n",
    "\n",
    "ax.plot(sizes, train_mean, 'o-', color = 'y', label = 'Training Score')\n",
    "ax.plot(sizes, test_mean, 'o-', color = 'b', label = 'Validation Score')\n",
    "\n",
    "ax.fill_between(sizes, train_mean - train_std, train_mean + train_std, \n",
    "                alpha = 0.15, color = 'y')\n",
    "ax.fill_between(sizes, test_mean - test_std, test_mean + test_std, \n",
    "                alpha = 0.15, color = 'b')\n",
    "\n",
    "ax.set_title('Depth = %s'%(depth))\n",
    "ax.set_xlabel('Number of training samples')\n",
    "ax.set_ylabel('R$^2$ score')\n",
    "ax.set_xlim([0, X.shape[0]*0.8])\n",
    "ax.set_ylim([-0.05, 1.05])\n",
    "ax.legend(bbox_to_anchor=(1.5, 1.05))\n",
    "\n",
    "plt.show()"
   ]
  },
  {
   "cell_type": "markdown",
   "metadata": {},
   "source": [
    "<h4>Conclusions</h4>\n",
    "We can observe the desired conversion at a high score with the training score slightly decreasing and the validation score increasing with added samples. The curves converge at a value that could likely still be improved by optimizing other hyperparameters or trying out a different model."
   ]
  },
  {
   "cell_type": "markdown",
   "metadata": {},
   "source": [
    "<hr style=\"border:1px solid #e8e8e8\"> </hr>\n",
    "\n",
    "<h3>3.3.3 High bias scenario</h3>"
   ]
  },
  {
   "cell_type": "code",
   "execution_count": 19,
   "metadata": {},
   "outputs": [
    {
     "data": {
      "image/png": "[encoded data removed]",
      "text/plain": [
       "<Figure size 360x144 with 1 Axes>"
      ]
     },
     "metadata": {
      "needs_background": "light"
     },
     "output_type": "display_data"
    }
   ],
   "source": [
    "# Define the different training sizes\n",
    "train_sizes = np.array([5,50,100,150,200,250,300,350,392])\n",
    "\n",
    "# Initiate cross-validation scheme\n",
    "cv = ShuffleSplit(n_splits = 10, test_size = 0.2, random_state = 15)\n",
    "\n",
    "# DecisionTree hyperparameter\n",
    "depth = 1\n",
    "\n",
    "# Initiate model\n",
    "dtr = DecisionTreeRegressor(max_depth = depth)\n",
    "\n",
    "# Train multiple models for different train_sizes\n",
    "sizes, train_scores, test_scores = learning_curve(dtr, X, y, \n",
    "                                                  cv = cv, \n",
    "                                                  train_sizes = train_sizes, \n",
    "                                                  scoring = 'r2')\n",
    "\n",
    "# mean and standard deviation for smoothing\n",
    "train_std = np.std(train_scores, axis = 1)\n",
    "train_mean = np.mean(train_scores, axis = 1)\n",
    "test_std = np.std(test_scores, axis = 1)\n",
    "test_mean = np.mean(test_scores, axis = 1)\n",
    "\n",
    "# Plot the data\n",
    "fig,ax = plt.subplots(figsize=(5,2))\n",
    "\n",
    "ax.plot(sizes, train_mean, 'o-', color = 'y', label = 'Training Score')\n",
    "ax.plot(sizes, test_mean, 'o-', color = 'b', label = 'Validation Score')\n",
    "\n",
    "ax.fill_between(sizes, train_mean - train_std, train_mean + train_std, \n",
    "                alpha = 0.15, color = 'y')\n",
    "ax.fill_between(sizes, test_mean - test_std, test_mean + test_std, \n",
    "                alpha = 0.15, color = 'b')\n",
    "\n",
    "ax.set_title('Depth = %s'%(depth))\n",
    "ax.set_xlabel('Number of training samples')\n",
    "ax.set_ylabel('R$^2$ score')\n",
    "ax.set_xlim([0, X.shape[0]*0.8])\n",
    "ax.set_ylim([-0.05, 1.05])\n",
    "ax.legend(bbox_to_anchor=(1.5, 1.05))\n",
    "\n",
    "plt.show()"
   ]
  },
  {
   "cell_type": "markdown",
   "metadata": {},
   "source": [
    "<h4>Conclusions</h4>\n",
    "The model underfits the data and suffers from a high bias error, the curves converge and plateau at a low score."
   ]
  },
  {
   "cell_type": "markdown",
   "metadata": {},
   "source": [
    "<hr style=\"border:1px solid #e8e8e8\"> </hr>\n",
    "\n",
    "<h3>3.3.4 High variance scenario</h3>"
   ]
  },
  {
   "cell_type": "code",
   "execution_count": 20,
   "metadata": {},
   "outputs": [
    {
     "data": {
      "image/png": "[encoded data removed]",
      "text/plain": [
       "<Figure size 360x144 with 1 Axes>"
      ]
     },
     "metadata": {
      "needs_background": "light"
     },
     "output_type": "display_data"
    }
   ],
   "source": [
    "# Define the different training sizes\n",
    "train_sizes = np.array([5,50,100,150,200,250,300,350,392])\n",
    "\n",
    "# Initiate cross-validation scheme\n",
    "cv = ShuffleSplit(n_splits = 10, test_size = 0.2, random_state = 15)\n",
    "\n",
    "# DecisionTree hyperparameter\n",
    "depth = 7\n",
    "\n",
    "# Initiate model\n",
    "dtr = DecisionTreeRegressor(max_depth = depth)\n",
    "\n",
    "# Train multiple models for different train_sizes\n",
    "sizes, train_scores, test_scores = learning_curve(dtr, X, y, \n",
    "                                                  cv = cv, \n",
    "                                                  train_sizes = train_sizes, \n",
    "                                                  scoring = 'r2')\n",
    "\n",
    "# mean and standard deviation for smoothing\n",
    "train_std = np.std(train_scores, axis = 1)\n",
    "train_mean = np.mean(train_scores, axis = 1)\n",
    "test_std = np.std(test_scores, axis = 1)\n",
    "test_mean = np.mean(test_scores, axis = 1)\n",
    "\n",
    "# Plot the data\n",
    "fig,ax = plt.subplots(figsize=(5,2))\n",
    "\n",
    "ax.plot(sizes, train_mean, 'o-', color = 'y', label = 'Training Score')\n",
    "ax.plot(sizes, test_mean, 'o-', color = 'b', label = 'Validation Score')\n",
    "\n",
    "ax.fill_between(sizes, train_mean - train_std, train_mean + train_std, \n",
    "                alpha = 0.15, color = 'y')\n",
    "ax.fill_between(sizes, test_mean - test_std, test_mean + test_std, \n",
    "                alpha = 0.15, color = 'b')\n",
    "\n",
    "ax.set_title('Depth = %s'%(depth))\n",
    "ax.set_xlabel('Number of training samples')\n",
    "ax.set_ylabel('R$^2$ score')\n",
    "ax.set_xlim([0, X.shape[0]*0.8])\n",
    "ax.set_ylim([-0.05, 1.05])\n",
    "ax.legend(bbox_to_anchor=(1.5, 1.05))\n",
    "\n",
    "plt.show()"
   ]
  },
  {
   "cell_type": "markdown",
   "metadata": {},
   "source": [
    "<h4>Conclusions</h4>\n",
    "The learning curve  displays a training score that stays consistently very high while the validation score remains low. The model likely has a high variance error and overfits."
   ]
  },
  {
   "cell_type": "markdown",
   "metadata": {},
   "source": [
    "<hr style=\"border:1px solid #A3A3A3\"> </hr>\n",
    "\n",
    "<h2>3.4 Data Imbalances</h2>\n",
    "\n",
    "Often, biological datasets are not ideally distributed, with each class or value range not being represented in similar abundance. This imbalance, or internal bias, can pose a problem when the model predicts cases that have low prevalence in the dataset. One way of detecting an imbalance is by analyzing the distribution of the predicted values by plotting the true y against the predicted y values. Often, the R<sup>2</sup> value is used as goodness-of-fit metric, but below we demonstrate that this value can be dramatically optimistic if an imbalance is present."
   ]
  },
  {
   "cell_type": "markdown",
   "metadata": {},
   "source": [
    "<hr style=\"border:1px solid #e8e8e8\"> </hr>\n",
    "\n",
    "<h3>3.4.1 Creating random data with bad fit</h3>"
   ]
  },
  {
   "cell_type": "code",
   "execution_count": 21,
   "metadata": {},
   "outputs": [
    {
     "data": {
      "image/png": "[encoded data removed]",
      "text/plain": [
       "<Figure size 432x288 with 1 Axes>"
      ]
     },
     "metadata": {
      "needs_background": "light"
     },
     "output_type": "display_data"
    },
    {
     "name": "stdout",
     "output_type": "stream",
     "text": [
      "The R^2 value is: 0.18760285914007702\n"
     ]
    }
   ],
   "source": [
    "#import the required packages\n",
    "import numpy as np\n",
    "import matplotlib.pyplot as plt\n",
    "from sklearn.metrics import r2_score\n",
    "from scipy import stats\n",
    "%matplotlib inline\n",
    "# Fixing random state for reproducibility\n",
    "np.random.seed(1984)\n",
    "\n",
    "#create data\n",
    "x = np.random.randint(30,50,15)\n",
    "#add random noise to y values\n",
    "y = x + np.random.normal(0, 8, size=x.shape)\n",
    "\n",
    "#performing linear regression\n",
    "slope, intercept, r_value, p_value, std_err = stats.linregress(x,y)\n",
    "def fitline(b):\n",
    "    return intercept + slope * b\n",
    "\n",
    "#run function for linear regression\n",
    "line1 = fitline(x)\n",
    "\n",
    "#compute R2\n",
    "r2 = r2_score(y, fitline(x))\n",
    "#round R2 for printing on graph\n",
    "r_ = r2.round(3)\n",
    "\n",
    "\n",
    "#plot \n",
    "plt.scatter(x,y)\n",
    "plt.plot(x,line1, c = 'm')\n",
    "plt.axis([0, 50, 0, 50])\n",
    "plt.xlabel('true y', fontsize=16)\n",
    "plt.ylabel('predicted y', fontsize=16)\n",
    "plt.text(2, 45, 'R$^2$: %s'%r_,\n",
    "         horizontalalignment='left', fontsize=12, \n",
    "         bbox=dict(facecolor='none', edgecolor='orange', pad=5.0))\n",
    "plt.show()\n",
    "\n",
    "print('The R^2 value is: ' + str(r2))"
   ]
  },
  {
   "cell_type": "markdown",
   "metadata": {},
   "source": [
    "<h4>Comment</h4>\n",
    "We can see that the fit of the linear regression line is bad, which is also reflected in the R<sup>2</sup> value."
   ]
  },
  {
   "cell_type": "markdown",
   "metadata": {},
   "source": [
    "<hr style=\"border:1px solid #e8e8e8\"> </hr>\n",
    "\n",
    "<h3>3.4.2 Add few samples with better fit outside the cluster</h3>"
   ]
  },
  {
   "cell_type": "code",
   "execution_count": 22,
   "metadata": {},
   "outputs": [
    {
     "data": {
      "image/png": "[encoded data removed]",
      "text/plain": [
       "<Figure size 432x288 with 1 Axes>"
      ]
     },
     "metadata": {
      "needs_background": "light"
     },
     "output_type": "display_data"
    },
    {
     "name": "stdout",
     "output_type": "stream",
     "text": [
      "The R^2 value is: 0.7723414656910637\n"
     ]
    }
   ],
   "source": [
    "# Fixing random state for reproducibility\n",
    "np.random.seed(1984)\n",
    "\n",
    "#create data\n",
    "x = np.random.randint(30,50,15)\n",
    "y = x + np.random.normal(0, 8, size=x.shape)\n",
    "\n",
    "x_ = np.array([5,8, 12])\n",
    "y_ = x_ + np.random.normal(0,5, size=x_.shape)\n",
    "\n",
    "x = np.hstack((x,x_))\n",
    "y = np.hstack((y,y_))\n",
    "\n",
    "#performing linear regression\n",
    "slope, intercept, r_value, p_value, std_err = stats.linregress(x,y)\n",
    "def fitline(b):\n",
    "    return intercept + slope * b\n",
    "\n",
    "#run function for linear regression\n",
    "line1 = fitline(x)\n",
    "\n",
    "#compute R2\n",
    "r2 = r2_score(y, fitline(x))\n",
    "#round R2 for printing on graph\n",
    "r_ = r2.round(3)\n",
    "\n",
    "\n",
    "#plot \n",
    "plt.scatter(x,y)\n",
    "plt.plot(x,line1, c = 'm')\n",
    "plt.axis([0, 50, 0, 50])\n",
    "plt.xlabel('true y', fontsize=16)\n",
    "plt.ylabel('predicted y', fontsize=16)\n",
    "plt.text(2, 45, 'R$^2$: %s'%r_,\n",
    "         horizontalalignment='left', fontsize=12, \n",
    "         bbox=dict(facecolor='none', edgecolor='orange', pad=5.0))\n",
    "plt.show()\n",
    "\n",
    "print('The R^2 value is: ' + str(r2))"
   ]
  },
  {
   "cell_type": "markdown",
   "metadata": {},
   "source": [
    "<h4>Comment</h4>\n",
    "We can see that the fit of the linear regression line fits 2 of the added samples rather well. The resulting R<sup>2</sup> value is a lot higher than the R<sup>2</sup> on the cluster alone as we saw in 3.4.1. However, the goodness-of-fit is still very bad for the majority of the samples. Taking an R<sup>2</sup> value from such a distribution as measure of accuracy would lead to heavily optimistic conclusions.\n",
    "\n",
    "You can change the datapoints to compare this to\n",
    "- reverse cluster and outliers (same effect)\n",
    "- better-fitting samples within the cluster (only mild effect)"
   ]
  },
  {
   "cell_type": "markdown",
   "metadata": {},
   "source": [
    "<hr style=\"border:1px solid #A3A3A3\"> </hr>\n",
    "\n",
    "<h2>4. Conclusions</h2>\n",
    "\n",
    "So far, there is no minimal information standard for experiments involving machine learning in biotechnology. In our review, we provide a workflow for researchers planning to set up an experiment involving machine learnings. In the workflow, a well-defined research question clearly assigns model, features, labels, training and test size and the accompanying validation methods and error metric. After training the model, stability of cross-validation folds give indication on how the published model behaves with unseen data. Further, careful analysis of the distribution and relationship between true and predicted output (R<sup>2</sup>) and an analyzed learning curve provides insight whether the previous steps were successful. \n",
    "<br><br>\n",
    "The following questions may provide a guideline for the model evaluation process:\n",
    "1. How are the input features expected to be related to the target labels?\n",
    "2. What is the expected signal-to-noise ratio and can this be improved?\n",
    "3. Do the training/test error indicate influences of high bias or variance error?\n",
    "4. Are the applied evaluation metrics able to capture relevant flaws of the model?\n",
    "5. Do the scores for different CV folds indicate a stable model?\n",
    "6. Do the training/test errors on the curves indicate a high bias or high variance scenario?\n",
    "7. Do the curves indicate an adequate number of samples for the trained model?\n",
    "8. Are target imbalances present and/or relevant for this type of problem?\n",
    "9. Does the selected model outperform other models in predictions and stability?"
   ]
  },
  {
   "cell_type": "markdown",
   "metadata": {},
   "source": [
    "Figure 1 of the article depicts the workflow of building and running a machine learning model based on biological data."
   ]
  }
 ],
 "metadata": {
  "kernelspec": {
   "display_name": "Python 3",
   "language": "python",
   "name": "python3"
  },
  "language_info": {
   "codemirror_mode": {
    "name": "ipython",
    "version": 3
   },
   "file_extension": ".py",
   "mimetype": "text/x-python",
   "name": "python",
   "nbconvert_exporter": "python",
   "pygments_lexer": "ipython3",
   "version": "3.7.1"
  }
 },
 "nbformat": 4,
 "nbformat_minor": 4
}
